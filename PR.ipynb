{
 "cells": [
  {
   "cell_type": "code",
   "execution_count": 11,
   "id": "e2c1d08d-3d50-455e-ba15-1bab71ce69fb",
   "metadata": {},
   "outputs": [],
   "source": [
    "# PR曲线画法\n",
    "# 学习机器学习算法 一直对PR曲线迷迷糊糊，此次重新梳理一下\n",
    "# 用于生成PR曲线的数据为随机数据，不能代表真正模型预测评估，只用于完成PR曲线\n",
    "# @author huzhixin\n",
    "# @email zhixinhu at qq.com"
   ]
  },
  {
   "cell_type": "code",
   "execution_count": 12,
   "id": "81f2b098-afa0-45e8-b099-f1a6d750aa66",
   "metadata": {},
   "outputs": [],
   "source": [
    "import numpy as np\n",
    "import matplotlib.pyplot as plt\n",
    "import seaborn as sns\n",
    "import pandas as pd"
   ]
  },
  {
   "cell_type": "code",
   "execution_count": 13,
   "id": "5cf68881-a069-4d52-8c1c-1072a5871e94",
   "metadata": {},
   "outputs": [],
   "source": [
    "# 产生两组 0到1之间的随机数\n",
    "\n",
    "# 演示数据1\n",
    "rand_1 = list(np.random.random(20))\n",
    "\n",
    "# 生成标签和预测概率数据\n",
    "test_1 = []\n",
    "for i in range(20):\n",
    "    label = \"P\" if i < 10 else \"N\"\n",
    "    test_1.append({\"value\": rand_1[i], \"label\": label})\n",
    "\n",
    "# 对概率进行排序\n",
    "rand_1.sort(reverse=True)\n",
    "\n",
    "# 演示数据2\n",
    "rand_2 = list(np.random.random(20))\n",
    "\n",
    "# 生成标签和预测概率数据\n",
    "test_2 = []\n",
    "for i in range(20):\n",
    "    label = \"P\" if i < 10 else \"N\"\n",
    "    test_2.append({\"value\": rand_2[i], \"label\": label})\n",
    "\n",
    "# 对概率进行排序\n",
    "rand_2.sort(reverse=True)"
   ]
  },
  {
   "cell_type": "code",
   "execution_count": 14,
   "id": "0dd51055-bb1b-491f-b252-49e82a759547",
   "metadata": {},
   "outputs": [],
   "source": [
    "# 计算PR值\n",
    "# values 模型预测的所有样本为正的概率列表\n",
    "# data 模型预测的数据与样本自身正确标签\n",
    "\n",
    "def get_pr(values=[], datas=[]):\n",
    "    \n",
    "    pr = []\n",
    "    \n",
    "    for value in values:\n",
    "        counts = {\"TP\": 0, \"FP\": 0, \"TN\": 0, \"FN\": 0}\n",
    "        for data in datas:\n",
    "            predict_label = \"P\" if data[\"value\"] >= value else \"N\"\n",
    "            if predict_label == \"P\" and data[\"label\"] == \"P\":\n",
    "                counts[\"TP\"] += 1\n",
    "            elif predict_label == \"P\" and data[\"label\"] == \"N\":\n",
    "                counts[\"FP\"] += 1\n",
    "            elif predict_label == \"N\" and data[\"label\"] == \"N\":\n",
    "                counts[\"TN\"] += 1\n",
    "            elif predict_label == \"N\" and data[\"label\"] == \"P\":\n",
    "                counts[\"FN\"] += 1\n",
    "        # 计算查准率\n",
    "        p = round(counts[\"TP\"]/(counts[\"TP\"]+counts[\"FP\"]), 2)\n",
    "\n",
    "        # 计算查全率\n",
    "        r = round(counts[\"TP\"]/(counts[\"TP\"]+counts[\"FN\"]), 2)\n",
    "        pr.append({\"p\": p, \"r\": r})\n",
    "    \n",
    "    return pr"
   ]
  },
  {
   "cell_type": "code",
   "execution_count": 15,
   "id": "2fd3def9-5745-4dce-bb51-72e56bb7c14d",
   "metadata": {},
   "outputs": [],
   "source": [
    "pr_1 = get_pr(rand_1, test_1)\n",
    "pr_2 = get_pr(rand_2, test_2)\n",
    "\n",
    "# 生成展示数据\n",
    "data_show = []\n",
    "for pr in pr_1:\n",
    "    data_show.append({'p': pr['p'], 'r': pr['r'], 'model': 'model_1'})\n",
    "    \n",
    "for pr in pr_2:\n",
    "    data_show.append({'p': pr['p'], 'r': pr['r'], 'model': 'model_2'})\n",
    "\n",
    "for pr in range(20):\n",
    "    value = (1.0/20)*pr\n",
    "    data_show.append({'p': value, 'r': value, 'model': 'BEP'})\n",
    "data_show = pd.DataFrame(data_show)"
   ]
  },
  {
   "cell_type": "code",
   "execution_count": 16,
   "id": "bc297049-0ba9-44a1-9d57-87dd57c848e4",
   "metadata": {},
   "outputs": [
    {
     "data": {
      "image/png": "[encoded data removed]",
      "text/plain": [
       "<Figure size 438.375x360 with 1 Axes>"
      ]
     },
     "metadata": {
      "needs_background": "light"
     },
     "output_type": "display_data"
    }
   ],
   "source": [
    "sns.relplot(x=\"r\", y=\"p\", ci=None, hue='model', kind=\"line\", data=data_show);"
   ]
  },
  {
   "cell_type": "code",
   "execution_count": null,
   "id": "6d5faacf-1b02-4ece-9623-42045cc7e393",
   "metadata": {},
   "outputs": [],
   "source": []
  },
  {
   "cell_type": "code",
   "execution_count": null,
   "id": "a9e4d393-c12b-433a-9dec-bebc25b0a606",
   "metadata": {},
   "outputs": [],
   "source": []
  }
 ],
 "metadata": {
  "kernelspec": {
   "display_name": "Paddle",
   "language": "python",
   "name": "paddle"
  },
  "language_info": {
   "codemirror_mode": {
    "name": "ipython",
    "version": 3
   },
   "file_extension": ".py",
   "mimetype": "text/x-python",
   "name": "python",
   "nbconvert_exporter": "python",
   "pygments_lexer": "ipython3",
   "version": "3.8.11"
  }
 },
 "nbformat": 4,
 "nbformat_minor": 5
}
